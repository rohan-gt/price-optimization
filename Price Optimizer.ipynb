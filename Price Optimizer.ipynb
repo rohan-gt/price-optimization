{
 "cells": [
  {
   "cell_type": "markdown",
   "metadata": {},
   "source": [
    "# Theory\n",
    "### Demand function\n",
    "The following equation describes a simple demand function,\n",
    "\n",
    "$$Q = \\alpha P^\\beta$$\n",
    "\n",
    "where $Q$ = Quantity sold, $P$ = Price, $\\beta$ = Price elasticity\n",
    "\n",
    "\n",
    "### Price elasticity of demand\n",
    "Price elasticity here is the rate of change in quantity sold w.r.t the rate of change in price. The demand function can be converted into a linear regression problem using a log transformation on both sides (log-log model),\n",
    "\n",
    "$$\\ln Q = \\alpha + \\beta \\ln P + \\epsilon$$\n",
    "\n",
    "\n",
    "Solving for $Q$,\n",
    "\n",
    "$$Q = e^{\\alpha + \\beta \\ln P + \\epsilon}$$\n",
    "\n",
    "\n",
    "Partial differentiating the equation w.r.t $P$ gives,\n",
    "\n",
    "$$\\frac{dQ}{dP} = {\\beta \\over P} * e^{\\alpha + \\beta \\ln P + \\epsilon}$$\n",
    "\n",
    "substituting value of Q,\n",
    "\n",
    "$$\\frac{dQ}{dP} = \\beta {Q \\over P}$$\n",
    "\n",
    "price elasticity,\n",
    "\n",
    "$$\\beta = {\\frac{dQ}{Q} \\over \\frac{dP}{P}}$$\n",
    "\n",
    "\n",
    "### Optimal price\n",
    "The marginal revenue as a function of price $P$ is given by the following formula,\n",
    "\n",
    "$$MR = Q(P - C)$$\n",
    "\n",
    "where $C$ = Cost price\n",
    "\n",
    "\n",
    "substituting value of Q,\n",
    "\n",
    "$$MR = \\alpha P^\\beta(P - C)$$\n",
    "\n",
    "expanding,\n",
    "\n",
    "$$MR = \\alpha P^{\\beta + 1} - \\alpha P^\\beta C$$\n",
    "\n",
    "\n",
    "We want to find the optimal price which which will maximize $MR$. So we find the first derivative and assign it to zero,\n",
    "\n",
    "$$MR'(P) = \\alpha (\\beta + 1)P^\\beta - \\alpha \\beta P^{\\beta - 1} C = 0$$\n",
    "\n",
    "$$(\\beta + 1)P^\\beta = \\beta P^{\\beta - 1} C$$\n",
    "\n",
    "dividing by $P^{\\beta - 1}$,\n",
    "\n",
    "$$(\\beta + 1)P = \\beta C$$\n",
    "\n",
    "or optimal price,\n",
    "\n",
    "$$P_{optimal} = {\\beta C \\over {\\beta + 1}}$$\n",
    "\n",
    "\n",
    "This of course can only be used in cases when the product is negatively elastic ($\\beta < -1$)"
   ]
  },
  {
   "cell_type": "markdown",
   "metadata": {},
   "source": [
    "# Code\n",
    "### Load libraries"
   ]
  },
  {
   "cell_type": "code",
   "execution_count": 46,
   "metadata": {},
   "outputs": [],
   "source": [
    "import numpy as np\n",
    "import pandas as pd\n",
    "from sklearn.linear_model import ElasticNetCV"
   ]
  },
  {
   "cell_type": "markdown",
   "metadata": {},
   "source": [
    "### Helper function"
   ]
  },
  {
   "cell_type": "code",
   "execution_count": 56,
   "metadata": {},
   "outputs": [],
   "source": [
    "def optimize_price(price_beta, cost_price, profit_margin=1, penalty=0):\n",
    "    \"\"\"Optimize price using price elasticity\"\"\"\n",
    "    \n",
    "    return ((price_beta / (price_beta + 1)) * ((cost_price - penalty) / profit_margin))"
   ]
  },
  {
   "cell_type": "markdown",
   "metadata": {},
   "source": [
    "### Load dataset"
   ]
  },
  {
   "cell_type": "code",
   "execution_count": 57,
   "metadata": {},
   "outputs": [
    {
     "data": {
      "text/html": [
       "<div>\n",
       "<style scoped>\n",
       "    .dataframe tbody tr th:only-of-type {\n",
       "        vertical-align: middle;\n",
       "    }\n",
       "\n",
       "    .dataframe tbody tr th {\n",
       "        vertical-align: top;\n",
       "    }\n",
       "\n",
       "    .dataframe thead th {\n",
       "        text-align: right;\n",
       "    }\n",
       "</style>\n",
       "<table border=\"1\" class=\"dataframe\">\n",
       "  <thead>\n",
       "    <tr style=\"text-align: right;\">\n",
       "      <th></th>\n",
       "      <th>Sales</th>\n",
       "      <th>Price.Eggs</th>\n",
       "      <th>Ad.Type</th>\n",
       "      <th>Price.Cookies</th>\n",
       "    </tr>\n",
       "  </thead>\n",
       "  <tbody>\n",
       "    <tr>\n",
       "      <th>0</th>\n",
       "      <td>18</td>\n",
       "      <td>4.77</td>\n",
       "      <td>0</td>\n",
       "      <td>4.74</td>\n",
       "    </tr>\n",
       "    <tr>\n",
       "      <th>1</th>\n",
       "      <td>20</td>\n",
       "      <td>4.67</td>\n",
       "      <td>0</td>\n",
       "      <td>4.81</td>\n",
       "    </tr>\n",
       "    <tr>\n",
       "      <th>2</th>\n",
       "      <td>23</td>\n",
       "      <td>4.75</td>\n",
       "      <td>0</td>\n",
       "      <td>4.36</td>\n",
       "    </tr>\n",
       "    <tr>\n",
       "      <th>3</th>\n",
       "      <td>23</td>\n",
       "      <td>4.74</td>\n",
       "      <td>0</td>\n",
       "      <td>4.29</td>\n",
       "    </tr>\n",
       "    <tr>\n",
       "      <th>4</th>\n",
       "      <td>23</td>\n",
       "      <td>4.63</td>\n",
       "      <td>0</td>\n",
       "      <td>4.17</td>\n",
       "    </tr>\n",
       "  </tbody>\n",
       "</table>\n",
       "</div>"
      ],
      "text/plain": [
       "   Sales  Price.Eggs  Ad.Type  Price.Cookies\n",
       "0     18        4.77        0           4.74\n",
       "1     20        4.67        0           4.81\n",
       "2     23        4.75        0           4.36\n",
       "3     23        4.74        0           4.29\n",
       "4     23        4.63        0           4.17"
      ]
     },
     "execution_count": 57,
     "metadata": {},
     "output_type": "execute_result"
    }
   ],
   "source": [
    "# Here eggs are the product in focus, with cookies being a competitor and ad type denoting whether a promo was run for eggs\n",
    "data = pd.read_csv(\"supermarket.csv\")\n",
    "data.head()"
   ]
  },
  {
   "cell_type": "markdown",
   "metadata": {},
   "source": [
    "### Split into dependant and independant variables"
   ]
  },
  {
   "cell_type": "code",
   "execution_count": 58,
   "metadata": {},
   "outputs": [],
   "source": [
    "X = data.loc[:, [\"Price.Eggs\", \"Ad.Type\", \"Price.Cookies\"]]\n",
    "y = data[\"Sales\"]"
   ]
  },
  {
   "cell_type": "markdown",
   "metadata": {},
   "source": [
    "### Build cross-validated Elastic Net model"
   ]
  },
  {
   "cell_type": "code",
   "execution_count": 59,
   "metadata": {},
   "outputs": [
    {
     "name": "stdout",
     "output_type": "stream",
     "text": [
      "R Squared: 0.89\n"
     ]
    }
   ],
   "source": [
    "model = ElasticNetCV(l1_ratio=[.1, .5, .6, .7, .8, .9, .95, .99, 1], normalize=True, cv=10, n_jobs=-1)\n",
    "model.fit(X, y)\n",
    "print(\"R Squared: %s\" % np.round(model.score(X, y), 2))"
   ]
  },
  {
   "cell_type": "markdown",
   "metadata": {},
   "source": [
    "### Find optimal price for eggs"
   ]
  },
  {
   "cell_type": "code",
   "execution_count": 61,
   "metadata": {},
   "outputs": [
    {
     "name": "stdout",
     "output_type": "stream",
     "text": [
      "Optimal price: 3.98\n"
     ]
    }
   ],
   "source": [
    "price_beta = model.coef_[0]\n",
    "cost_price = X[\"Price.Eggs\"].min()\n",
    "price_optimal = optimize_price(price_beta, cost_price)\n",
    "print(\"Optimal price: %s\" % np.round(price_optimal, 2))"
   ]
  }
 ],
 "metadata": {
  "kernelspec": {
   "display_name": "Python 3",
   "language": "python",
   "name": "python3"
  },
  "language_info": {
   "codemirror_mode": {
    "name": "ipython",
    "version": 3
   },
   "file_extension": ".py",
   "mimetype": "text/x-python",
   "name": "python",
   "nbconvert_exporter": "python",
   "pygments_lexer": "ipython3",
   "version": "3.6.6"
  }
 },
 "nbformat": 4,
 "nbformat_minor": 2
}
